{
 "cells": [
  {
   "cell_type": "markdown",
   "metadata": {},
   "source": [
    "# Kuis (6 Feb 2023)\n",
    "Kelompok 8\n",
    "- 10219015 M. Abraar Abhirama\n",
    "- 10219025 Asla Roudhatu R.\n",
    "- 10219082 Rahmalia Nur A.\n",
    "- 10219084 Avima Haamesha\n",
    "\n",
    "**Semi-empirical mass formula**\n",
    "\n",
    "![](./semi_empirical_mass_formula.jpg)\n",
    "\n",
    "Referensi: Kamal, Anwar. 2014. \"Nuclear Physics\""
   ]
  },
  {
   "cell_type": "code",
   "execution_count": 1,
   "metadata": {},
   "outputs": [],
   "source": [
    "def get_a5(A, Z):\n",
    "    if (A%2) == 0:  # A even\n",
    "        if ((A+Z)%2) == 0:  # A n Z even\n",
    "            a5 = 12.0\n",
    "        else:   # A even Z odd\n",
    "            a5 = -12.0\n",
    "    else:   # A odd\n",
    "        a5 = 0\n",
    "    return a5\n",
    "\n",
    "def calculate_binding_energy(A, Z, name='X'):\n",
    "    a1 = 15.56\n",
    "    a2 = 17.23\n",
    "    a3 = 0.7\n",
    "    a4 = 23.285\n",
    "    a5 = get_a5(A, Z)\n",
    "    B = a1*A - a2*(A**(2/3)) - a3*(Z**2)/(A**(1/3)) - a4*((A/2-Z)**2)/A + a5/(A**(1/2))\n",
    "    print('Energi binding %s (A=%s, Z=%s) adalah %s MeV' %(name, A, Z, B))\n",
    "    return B"
   ]
  },
  {
   "cell_type": "markdown",
   "metadata": {},
   "source": [
    "$$\n",
    "    D + D \\rightarrow He^4_2 \\\\\n",
    "    H^2_1 + H^2_1 \\rightarrow He^4_2\n",
    "$$"
   ]
  },
  {
   "cell_type": "code",
   "execution_count": 2,
   "metadata": {},
   "outputs": [
    {
     "name": "stdout",
     "output_type": "stream",
     "text": [
      "Energi binding H (A=2, Z=1) adalah -5.271791867839513 MeV\n",
      "Energi binding He (A=4, Z=2) adalah 23.059231150769843 MeV\n",
      "\n",
      "Energi yang dilepaskan: -33.60281488644887 MeV\n"
     ]
    }
   ],
   "source": [
    "b_H = calculate_binding_energy(A=2, Z=1, name='H')\n",
    "b_He = calculate_binding_energy(A=4, Z=2, name='He')\n",
    "energy_1 = 2*b_H - b_He\n",
    "\n",
    "print('\\nEnergi yang dilepaskan: %s MeV' %energy_1)"
   ]
  },
  {
   "cell_type": "markdown",
   "metadata": {},
   "source": [
    "$$\n",
    "    n + Pu^{239} \\rightarrow 2 X^{119}_{47} \\\\\n",
    "    n^1_0 + Pu^{239}_{94} \\rightarrow 2 X^{119}_{47}\n",
    "$$"
   ]
  },
  {
   "cell_type": "code",
   "execution_count": 3,
   "metadata": {},
   "outputs": [
    {
     "name": "stdout",
     "output_type": "stream",
     "text": [
      "Energi binding n (A=1, Z=0) adalah -7.49125 MeV\n",
      "Energi binding Pu (A=239, Z=94) adalah 1995.2455910226454 MeV\n",
      "Energi binding X (A=119, Z=47) adalah 1089.8402412521111 MeV\n",
      "\n",
      "Energi yang dilepaskan: -191.9261414815769 MeV\n"
     ]
    }
   ],
   "source": [
    "b_n = calculate_binding_energy(A=1, Z=0, name='n')\n",
    "b_Pu = calculate_binding_energy(A=239, Z=94, name='Pu')\n",
    "b_X = calculate_binding_energy(A=119, Z=47, name='X')\n",
    "energy_2 = (b_n + b_Pu) - (2 * b_X)\n",
    "\n",
    "print('\\nEnergi yang dilepaskan: %s MeV' %energy_2)"
   ]
  }
 ],
 "metadata": {
  "kernelspec": {
   "display_name": "Python 3.10.10 64-bit",
   "language": "python",
   "name": "python3"
  },
  "language_info": {
   "codemirror_mode": {
    "name": "ipython",
    "version": 3
   },
   "file_extension": ".py",
   "mimetype": "text/x-python",
   "name": "python",
   "nbconvert_exporter": "python",
   "pygments_lexer": "ipython3",
   "version": "3.10.10"
  },
  "orig_nbformat": 4,
  "vscode": {
   "interpreter": {
    "hash": "f2ccb58c476f33ba3e3aee7ac07234ef6b8217ef24ad64d2a7d4fed1a57c1cd2"
   }
  }
 },
 "nbformat": 4,
 "nbformat_minor": 2
}
